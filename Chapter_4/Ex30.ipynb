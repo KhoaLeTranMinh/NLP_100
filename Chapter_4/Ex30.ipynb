{
 "cells": [
  {
   "cell_type": "code",
   "execution_count": 1,
   "metadata": {},
   "outputs": [
    {
     "name": "stderr",
     "output_type": "stream",
     "text": [
      "2023-11-01 21:55:50 INFO: Checking for updates to resources.json in case models have been updated.  Note: this behavior can be turned off with download_method=None or download_method=DownloadMethod.REUSE_RESOURCES\n"
     ]
    },
    {
     "data": {
      "application/vnd.jupyter.widget-view+json": {
       "model_id": "c551177c8865447e9017c3cce31caee7",
       "version_major": 2,
       "version_minor": 0
      },
      "text/plain": [
       "Downloading https://raw.githubusercontent.com/stanfordnlp/stanza-resources/main/resources_1.6.0.json:   0%|   …"
      ]
     },
     "metadata": {},
     "output_type": "display_data"
    },
    {
     "name": "stderr",
     "output_type": "stream",
     "text": [
      "2023-11-01 21:55:51 INFO: Loading these models for language: en (English):\n",
      "=================================\n",
      "| Processor | Package           |\n",
      "---------------------------------\n",
      "| tokenize  | combined          |\n",
      "| pos       | combined_charlm   |\n",
      "| lemma     | combined_nocharlm |\n",
      "=================================\n",
      "\n",
      "2023-11-01 21:55:51 INFO: Using device: cpu\n",
      "2023-11-01 21:55:51 INFO: Loading: tokenize\n",
      "2023-11-01 21:55:51 INFO: Loading: pos\n",
      "2023-11-01 21:55:52 INFO: Loading: lemma\n",
      "2023-11-01 21:55:52 INFO: Done loading processors!\n"
     ]
    }
   ],
   "source": [
    "from os import write\n",
    "import stanza\n",
    "\n",
    "with open('../Data/Alice/alice.txt') as textFile:\n",
    "    content = textFile.read()\n",
    "\n",
    "nlp = stanza.Pipeline('en', processors='pos,tokenize,lemma')\n",
    "\n",
    "doc = nlp(content)\n",
    "with open(\"../Data/Output/Ex30-doc.json\", mode='w+', encoding='utf-8') as f:\n",
    "    f.write(str(doc))\n",
    "\n",
    "\n",
    "with open('../Data/Output/alice.txt', 'w+') as f:\n",
    "    for sentence in doc.sentences:\n",
    "        for word in sentence.words:\n",
    "            wordInfo = f\"{word.text} {word.lemma} {word.xpos}\\n\"\n",
    "            f.write(wordInfo)\n",
    "# # print(word.text, word.lemma, word.pos)\n"
   ]
  }
 ],
 "metadata": {
  "kernelspec": {
   "display_name": "Python 3",
   "language": "python",
   "name": "python3"
  },
  "language_info": {
   "codemirror_mode": {
    "name": "ipython",
    "version": 3
   },
   "file_extension": ".py",
   "mimetype": "text/x-python",
   "name": "python",
   "nbconvert_exporter": "python",
   "pygments_lexer": "ipython3",
   "version": "3.11.6"
  }
 },
 "nbformat": 4,
 "nbformat_minor": 2
}
