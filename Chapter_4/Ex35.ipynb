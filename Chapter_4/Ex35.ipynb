{
 "cells": [
  {
   "cell_type": "code",
   "execution_count": null,
   "metadata": {},
   "outputs": [],
   "source": [
    "import json\n",
    "from pyparsing import WordEnd\n",
    "import stanza\n",
    "from collections import Counter\n",
    "with open('Data/Output/Chapter4/Ex30-doc.json', encoding='utf-8', mode='r+') as f:\n",
    "    content = f.read()\n",
    "\n",
    "doc = json.loads(content)\n",
    "\n",
    "words_list = []\n",
    "for sentences in doc:\n",
    "    for word in sentences:\n",
    "        words_list.append(word['text'])\n",
    "\n",
    "\n",
    "word_counts = Counter(words_list)\n",
    "\n",
    "# for key, value in word_counts.items():\n",
    "#     print(f\"{key}: {value} times\")\n",
    "\n",
    "word_counts_stored = word_counts.items()\n",
    "\n",
    "\n",
    "with open('Data/Output/Chapter4/Ex35-result.json', mode='w+', encoding='utf-8') as f:\n",
    "    f.write(json.dumps(dict(word_counts_stored)))\n"
   ]
  }
 ],
 "metadata": {
  "language_info": {
   "name": "python"
  }
 },
 "nbformat": 4,
 "nbformat_minor": 2
}
