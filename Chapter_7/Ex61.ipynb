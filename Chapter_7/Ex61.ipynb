{
 "cells": [
  {
   "cell_type": "code",
   "execution_count": 7,
   "metadata": {},
   "outputs": [
    {
     "name": "stdout",
     "output_type": "stream",
     "text": [
      "0.7310774298319469\n",
      "another way\n",
      "0.73107743\n"
     ]
    }
   ],
   "source": [
    "from numpy import dot\n",
    "from numpy.linalg import norm\n",
    "from gensim.models.keyedvectors import KeyedVectors\n",
    "\n",
    "def cosine_similarity(vec1, vec2):\n",
    "    cos_sim = dot(vec1, vec2) / (norm(vec1) * norm(vec2))\n",
    "    return cos_sim\n",
    "\n",
    "\n",
    "filepath = \"../Data/Chapter7/GoogleNews-vectors-negative300.bin\"\n",
    "word_embedding = KeyedVectors.load_word2vec_format(filepath, binary=True)\n",
    "print(cosine_similarity(word_embedding[\"United_States\"].tolist(), word_embedding[\"U.S\"].tolist()))\n",
    "print(\"another way\")\n",
    "print(word_embedding.similarity(\"United_States\",\"U.S.\"))"
   ]
  }
 ],
 "metadata": {
  "kernelspec": {
   "display_name": "Python 3",
   "language": "python",
   "name": "python3"
  },
  "language_info": {
   "codemirror_mode": {
    "name": "ipython",
    "version": 3
   },
   "file_extension": ".py",
   "mimetype": "text/x-python",
   "name": "python",
   "nbconvert_exporter": "python",
   "pygments_lexer": "ipython3",
   "version": "3.11.6"
  }
 },
 "nbformat": 4,
 "nbformat_minor": 2
}
