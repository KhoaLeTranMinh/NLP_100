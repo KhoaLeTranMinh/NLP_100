{
 "cells": [
  {
   "cell_type": "code",
   "execution_count": 9,
   "metadata": {},
   "outputs": [
    {
     "name": "stdout",
     "output_type": "stream",
     "text": [
      "Athens: 0.7528\n",
      "Greece: 0.6685\n",
      "Aristeidis_Grigoriadis: 0.5496\n",
      "Ioannis_Drymonakos: 0.5361\n",
      "Greeks: 0.5352\n",
      "Ioannis_Christou: 0.5330\n",
      "Hrysopiyi_Devetzi: 0.5088\n",
      "Iraklion: 0.5059\n",
      "Greek: 0.5041\n",
      "Athens_Greece: 0.5034\n"
     ]
    }
   ],
   "source": [
    "from numpy import dot\n",
    "from numpy.linalg import norm\n",
    "from gensim.models.keyedvectors import KeyedVectors\n",
    "\n",
    "\n",
    "filepath = \"../Data/Chapter7/GoogleNews-vectors-negative300.bin\"\n",
    "word_embedding = KeyedVectors.load_word2vec_format(filepath, binary=True)\n",
    "\n",
    "result = word_embedding.most_similar(word_embedding['Spain']-word_embedding['Madrid']+word_embedding['Athens'])\n",
    "\n",
    "# print(word_embedding[\"United_States\"]+word_embedding[\"U.S.\"])\n",
    "\n",
    "for rank in range(10):\n",
    "    similar_word,similar_score = result[rank]\n",
    "    print(f\"{similar_word}: {similar_score:.4f}\")\n",
    "    \n",
    "# result2 = word_embedding.most_similar(positive=['Spain', 'Athens'], negative=['Madrid'])\n",
    "# print(\"\\n Alternative result \\n\")\n",
    "# for rank in range(10):\n",
    "#     similar_word,similar_score = result2[rank]\n",
    "#     print(f\"{similar_word}: {similar_score:.4f}\")"
   ]
  }
 ],
 "metadata": {
  "kernelspec": {
   "display_name": "Python 3",
   "language": "python",
   "name": "python3"
  },
  "language_info": {
   "codemirror_mode": {
    "name": "ipython",
    "version": 3
   },
   "file_extension": ".py",
   "mimetype": "text/x-python",
   "name": "python",
   "nbconvert_exporter": "python",
   "pygments_lexer": "ipython3",
   "version": "3.11.6"
  }
 },
 "nbformat": 4,
 "nbformat_minor": 2
}
