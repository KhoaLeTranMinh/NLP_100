{
 "cells": [
  {
   "cell_type": "code",
   "execution_count": 3,
   "metadata": {},
   "outputs": [
    {
     "name": "stdout",
     "output_type": "stream",
     "text": [
      "Unites_States: 0.7877\n",
      "Untied_States: 0.7541\n",
      "United_Sates: 0.7401\n",
      "U.S.: 0.7311\n",
      "theUnited_States: 0.6404\n",
      "America: 0.6178\n",
      "UnitedStates: 0.6167\n",
      "Europe: 0.6133\n",
      "countries: 0.6045\n",
      "Canada: 0.6019\n"
     ]
    }
   ],
   "source": [
    "from numpy import dot\n",
    "from numpy.linalg import norm\n",
    "from gensim.models.keyedvectors import KeyedVectors\n",
    "\n",
    "\n",
    "\n",
    "filepath = \"../Data/Chapter7/GoogleNews-vectors-negative300.bin\"\n",
    "word_embedding = KeyedVectors.load_word2vec_format(filepath, binary=True)\n",
    "result = word_embedding.similar_by_word(\"United_States\")\n",
    "for rank in range(10):\n",
    "    similar_key, similarity = result[rank] \n",
    "    print(f\"{similar_key}: {similarity:.4f}\")"
   ]
  }
 ],
 "metadata": {
  "kernelspec": {
   "display_name": "Python 3",
   "language": "python",
   "name": "python3"
  },
  "language_info": {
   "codemirror_mode": {
    "name": "ipython",
    "version": 3
   },
   "file_extension": ".py",
   "mimetype": "text/x-python",
   "name": "python",
   "nbconvert_exporter": "python",
   "pygments_lexer": "ipython3",
   "version": "3.11.6"
  }
 },
 "nbformat": 4,
 "nbformat_minor": 2
}
