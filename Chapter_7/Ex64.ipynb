{
 "cells": [
  {
   "cell_type": "code",
   "execution_count": 2,
   "metadata": {},
   "outputs": [
    {
     "name": "stderr",
     "output_type": "stream",
     "text": [
      "C:\\Users\\Admin\\AppData\\Local\\Temp\\ipykernel_3872\\3305799015.py:16: ParserWarning: Falling back to the 'python' engine because the 'c' engine does not support regex separators (separators > 1 char and different from '\\s+' are interpreted as regex); you can avoid this warning by specifying engine='python'.\n",
      "  df_analogy = pd.read_table(filepath_analogy_in,sep='\\s',skiprows=1,header=None)\n"
     ]
    },
    {
     "name": "stdout",
     "output_type": "stream",
     "text": [
      "        word1   word2    word3        word4 analogous_word similarity\n",
      "0      Athens  Greece  Baghdad         Iraq           None       None\n",
      "1      Athens  Greece  Bangkok     Thailand           None       None\n",
      "2      Athens  Greece  Beijing        China           None       None\n",
      "3      Athens  Greece   Berlin      Germany           None       None\n",
      "4      Athens  Greece     Bern  Switzerland           None       None\n",
      "...       ...     ...      ...          ...            ...        ...\n",
      "19552   write  writes     talk        talks           None       None\n",
      "19553   write  writes    think       thinks           None       None\n",
      "19554   write  writes   vanish     vanishes           None       None\n",
      "19555   write  writes     walk        walks           None       None\n",
      "19556   write  writes     work        works           None       None\n",
      "\n",
      "[19557 rows x 6 columns]\n"
     ]
    },
    {
     "name": "stderr",
     "output_type": "stream",
     "text": [
      "19557it [1:55:10,  2.83it/s]\n"
     ]
    },
    {
     "name": "stdout",
     "output_type": "stream",
     "text": [
      "    word1   word2    word3        word4 analogous_word similarity\n",
      "0  Athens  Greece  Baghdad         Iraq          Iraqi   0.635187\n",
      "1  Athens  Greece  Bangkok     Thailand       Thailand   0.713767\n",
      "2  Athens  Greece  Beijing        China          China   0.723578\n",
      "3  Athens  Greece   Berlin      Germany        Germany   0.673462\n",
      "4  Athens  Greece     Bern  Switzerland    Switzerland   0.491975\n"
     ]
    }
   ],
   "source": [
    "from traceback import print_tb\n",
    "import pandas as pd\n",
    "import numpy as np\n",
    "from gensim.models.keyedvectors import KeyedVectors\n",
    "from tqdm import tqdm\n",
    "\n",
    "\n",
    "\n",
    "filepath_word_embedding = '../Data/Chapter7/GoogleNews-vectors-negative300.bin'\n",
    "filepath_analogy_in = '../Data/Chapter7/questions-words.txt'\n",
    "\n",
    "model = KeyedVectors.load_word2vec_format(filepath_word_embedding,binary=True)\n",
    "df_analogy = pd.read_table(filepath_analogy_in,sep='\\s',skiprows=1,header=None)\n",
    "\n",
    "df_analogy.columns = ['word1', 'word2', 'word3', 'word4']\n",
    "df_analogy['analogous_word'] = None\n",
    "df_analogy['similarity'] = None\n",
    "\n",
    "\n",
    "print(df_analogy)\n",
    "most_similar_words = []\n",
    "similarities = []\n",
    "for w1, w2, w3 in tqdm(zip(df_analogy['word1'],\n",
    "                            df_analogy['word2'],\n",
    "                            df_analogy['word3'])):\n",
    "    if ':' in w1:\n",
    "        most_similar_words.append('')\n",
    "        similarities.append('')\n",
    "        continue\n",
    "    most_similar_word, similarity = model.most_similar(\n",
    "        positive=[w2, w3], negative=[w1], topn=1)[0]\n",
    "    most_similar_words.append(most_similar_word)\n",
    "    similarities.append(similarity)\n",
    "\n",
    "df_analogy['analogous_word'] = most_similar_words\n",
    "df_analogy['similarity'] = similarities\n",
    "\n",
    "print(df_analogy.head())\n",
    "\n",
    "filepath_analogy_out = filepath_analogy_in.replace('.txt', '_out.txt')\n",
    "df_analogy.to_csv(filepath_analogy_out, sep=' ',\n",
    "                    index=None)"
   ]
  }
 ],
 "metadata": {
  "kernelspec": {
   "display_name": "Python 3",
   "language": "python",
   "name": "python3"
  },
  "language_info": {
   "codemirror_mode": {
    "name": "ipython",
    "version": 3
   },
   "file_extension": ".py",
   "mimetype": "text/x-python",
   "name": "python",
   "nbconvert_exporter": "python",
   "pygments_lexer": "ipython3",
   "version": "3.11.6"
  }
 },
 "nbformat": 4,
 "nbformat_minor": 2
}
