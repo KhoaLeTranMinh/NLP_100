{
 "cells": [
  {
   "cell_type": "code",
   "execution_count": 1,
   "metadata": {},
   "outputs": [
    {
     "name": "stdout",
     "output_type": "stream",
     "text": [
      "[[0.81353513 0.12385026 0.02636456 0.03625004]\n",
      " [0.21455866 0.29684922 0.37750515 0.11108697]\n",
      " [0.099726   0.77303552 0.06002429 0.06721419]\n",
      " ...\n",
      " [0.0368152  0.85643469 0.06809514 0.03865496]\n",
      " [0.94012012 0.03285388 0.01610331 0.01092269]\n",
      " [0.88570551 0.07096919 0.02172735 0.02159795]]\n"
     ]
    }
   ],
   "source": [
    "import numpy as np\n",
    "import pandas as pd\n",
    "from sklearn import preprocessing\n",
    "from sklearn.linear_model import LogisticRegression\n",
    "import pickle\n",
    "import numpy as np\n",
    "\n",
    "\n",
    "train_path = '../Data/Output/Chapter6/ex50-train.txt'\n",
    "val_path = '../Data/Output/Chapter6/ex50-valid.txt'\n",
    "test_path = '../Data/Output/Chapter6/ex50-test.txt'\n",
    "model_path = '../Data/Output/Chapter6/model_logisticregression.pickle'\n",
    "\n",
    "train_fe_path = train_path.replace('.txt', '_features.npy')\n",
    "val_fe_path = val_path.replace('.txt', '_features.npy')\n",
    "test_fe_path = test_path.replace('.txt', '_features.npy')\n",
    "\n",
    "df_train = pd.read_csv(train_path, sep='\\t', header=0, index_col='id')\n",
    "df_valid = pd.read_csv(val_path, sep='\\t', header=0, index_col='id')\n",
    "df_test = pd.read_csv(test_path, sep='\\t', header=0, index_col='id')\n",
    "\n",
    "\n",
    "def get_feature_datas(train_fe_path, val_fe_path, test_fe_path):\n",
    "    x_train = np.load(train_fe_path, allow_pickle=True)\n",
    "    x_valid = np.load(val_fe_path, allow_pickle=True)\n",
    "    x_test = np.load(test_fe_path, allow_pickle=True)\n",
    "    return x_train, x_valid, x_test\n",
    "\n",
    "\n",
    "def get_labels():\n",
    "    # le = preprocessing.LabelEncoder()\n",
    "    # le.fit(df_train['category'])\n",
    "    # y = le.transform(df_train['category'])\n",
    "    # return y\n",
    "    y_train = df_train[\"category\"]\n",
    "    y_valid = df_valid[\"category\"]\n",
    "    y_test = df_test[\"category\"]\n",
    "\n",
    "    return y_train, y_valid, y_test\n",
    "\n",
    "\n",
    "x_train, x_valid, x_test = get_feature_datas(\n",
    "    train_fe_path, val_fe_path, test_fe_path)\n",
    "y_train, y_valid, y_test = get_labels()\n",
    "# y_train = get_labels(df_train)\n",
    "# y_valid = get_labels(df_valid)\n",
    "# y_test = get_labels(df_test)\n",
    "\n",
    "# print(type(x_train))\n",
    "# print(type(y_train))\n",
    "model = LogisticRegression(random_state=42, max_iter=1000)\n",
    "trained_model = model.fit(x_train, y_train)\n",
    "y_pred = trained_model.predict(x_valid)\n",
    "\n",
    "print(trained_model.predict_proba(x_train))\n",
    "pickle.dump(model, open(model_path, 'wb'))"
   ]
  }
 ],
 "metadata": {
  "kernelspec": {
   "display_name": "Python 3",
   "language": "python",
   "name": "python3"
  },
  "language_info": {
   "codemirror_mode": {
    "name": "ipython",
    "version": 3
   },
   "file_extension": ".py",
   "mimetype": "text/x-python",
   "name": "python",
   "nbconvert_exporter": "python",
   "pygments_lexer": "ipython3",
   "version": "3.11.6"
  }
 },
 "nbformat": 4,
 "nbformat_minor": 2
}
