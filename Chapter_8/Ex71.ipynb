{
 "cells": [
  {
   "cell_type": "code",
   "execution_count": 1,
   "metadata": {},
   "outputs": [],
   "source": [
    "import torch\n",
    "import os\n",
    "import random\n",
    "import numpy as np\n",
    "from torch import nn\n",
    "\n",
    "\n",
    "def seed_everything(seed=42):\n",
    "    random.seed(seed)\n",
    "    os.environ['PYTHONHASHSEED'] = str(seed)\n",
    "    np.random.seed(seed)\n",
    "    torch.manual_seed(seed)\n",
    "    torch.cuda.manual_seed(seed)\n",
    "    torch.backends.cudnn.deterministic = True\n",
    "\n",
    "\n",
    "class Net(nn.Module): #inheritance in python\n",
    "    def __init__(self, in_shape: int, out_shape: int):\n",
    "        super().__init__()\n",
    "        self.fc = nn.Linear(in_shape, out_shape, bias=True)##in_shape = 300 , ##out_shape = 4 which are numbers of categories. This basically creates a \"weight matrix of out_shape x in_shape\"\n",
    "        \n",
    "        nn.init.constant_(self.fc.bias.data, 0)\n",
    "        ## for now we make all bias values to 0\n",
    "        self.softmax = nn.Softmax(dim=1)\n",
    "\n",
    "    def forward(self, x):\n",
    "        x = self.fc(x)\n",
    "        x = self.softmax(x)\n",
    "        return x\n",
    "\n",
    "\n",
    "\n",
    "seed_everything()\n",
    "filedir_in = '../Data/Output/Chapter8'\n",
    "\n",
    "train_path = os.path.join(filedir_in, 'ex70-train.pt')\n",
    "x_train = torch.load(train_path)\n",
    "\n",
    "net = Net(in_shape=x_train.shape[1], out_shape=4)\n",
    "\n",
    "assert torch.equal(net.fc(torch.zeros_like(x_train)),torch.zeros(x_train.shape[0], 4))\n",
    "output = net(x_train)\n",
    "\n",
    "print(output[0, :],\"\\n\")\n",
    "print(output[0:4, :],\"\\n\")\n",
    "print(output)\n",
    "print(output.shape)"
   ]
  },
  {
   "cell_type": "code",
   "execution_count": null,
   "metadata": {},
   "outputs": [],
   "source": []
  }
 ],
 "metadata": {
  "kernelspec": {
   "display_name": "Python 3",
   "language": "python",
   "name": "python3"
  },
  "language_info": {
   "codemirror_mode": {
    "name": "ipython",
    "version": 3
   },
   "file_extension": ".py",
   "mimetype": "text/x-python",
   "name": "python",
   "nbconvert_exporter": "python",
   "pygments_lexer": "ipython3",
   "version": "3.11.6"
  }
 },
 "nbformat": 4,
 "nbformat_minor": 2
}
