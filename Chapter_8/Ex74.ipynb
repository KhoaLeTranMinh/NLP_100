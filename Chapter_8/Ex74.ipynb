{
 "cells": [
  {
   "cell_type": "code",
   "execution_count": 1,
   "metadata": {},
   "outputs": [
    {
     "name": "stdout",
     "output_type": "stream",
     "text": [
      "0.4252248875562219\n",
      "tensor([[0.2629, 0.2607, 0.2366, 0.2398],\n",
      "        [0.2629, 0.2607, 0.2366, 0.2398],\n",
      "        [0.2629, 0.2607, 0.2366, 0.2398],\n",
      "        ...,\n",
      "        [0.2630, 0.2608, 0.2365, 0.2398],\n",
      "        [0.2623, 0.2614, 0.2363, 0.2401],\n",
      "        [0.2465, 0.2582, 0.2426, 0.2527]], grad_fn=<SoftmaxBackward0>)\n",
      "torch.Size([1334])\n",
      "0.411544227886057\n"
     ]
    }
   ],
   "source": [
    "import torch\n",
    "import os\n",
    "import random\n",
    "import numpy as np\n",
    "from torch import nn\n",
    "import torch.optim as optim\n",
    "\n",
    "\n",
    "def seed_everything(seed=42):\n",
    "    random.seed(seed)\n",
    "    os.environ['PYTHONHASHSEED'] = str(seed)\n",
    "    np.random.seed(seed)\n",
    "    torch.manual_seed(seed)\n",
    "    torch.cuda.manual_seed(seed)\n",
    "    torch.backends.cudnn.deterministic = True\n",
    "# randomize some params in for different functions\n",
    "\n",
    "\n",
    "class Net(nn.Module):  # inheritance in python\n",
    "    def __init__(self, in_shape: int, out_shape: int):\n",
    "        super().__init__()\n",
    "        # in_shape = 300 , ##out_shape = 4 which are numbers of categories. This basically creates a \"weight matrix of out_shape x in_shape\"\n",
    "        self.linearTrans = nn.Linear(in_shape, out_shape, bias=True)\n",
    "\n",
    "        nn.init.constant_(self.linearTrans.bias.data, 0)\n",
    "        # for now we make all bias values to 0\n",
    "        self.softmax = nn.Softmax(dim=1)\n",
    "\n",
    "    def forward(self, x):\n",
    "        x = self.linearTrans(x)\n",
    "        x = self.softmax(x)\n",
    "        return x\n",
    "\n",
    "\n",
    "seed_everything()\n",
    "filedir_in = '../Data/Output/Chapter8/'\n",
    "modelpath = '../Data/Output/Chapter8/torch_single_layer.pth'\n",
    "\n",
    "train_path = os.path.join(filedir_in, 'ex70-train.pt')\n",
    "x_train = torch.load(train_path)\n",
    "train_label_path = os.path.join(filedir_in, 'ex70-train_label.pt')\n",
    "y_train_label = torch.load(train_label_path)\n",
    "\n",
    "net = Net(in_shape=x_train.shape[1], out_shape=4)\n",
    "net.load_state_dict(torch.load(modelpath))\n",
    "\n",
    "y_train_pred_dist = net(x_train)\n",
    "y_train_pred = torch.argmax(y_train_pred_dist, dim=1)\n",
    "acc_train = (y_train_pred == y_train_label).sum().item() / y_train_label.shape[0]\n",
    "print(acc_train)\n",
    "\n",
    "test_path = os.path.join(filedir_in, 'ex70-test.pt')\n",
    "x_test = torch.load(test_path)\n",
    "test_label_path = os.path.join(filedir_in, 'ex70-test_label.pt')\n",
    "y_test_label = torch.load(test_label_path)\n",
    "\n",
    "y_test_pred = net(x_test)\n",
    "print(y_test_pred)\n",
    "y_test_pred = torch.argmax(y_test_pred,dim=1)\n",
    "print(y_test_pred.shape)\n",
    "acc_test = (y_test_pred == y_test_label).sum().item() / y_test_label.shape[0]\n",
    "print(acc_test)"
   ]
  }
 ],
 "metadata": {
  "kernelspec": {
   "display_name": "Python 3",
   "language": "python",
   "name": "python3"
  },
  "language_info": {
   "codemirror_mode": {
    "name": "ipython",
    "version": 3
   },
   "file_extension": ".py",
   "mimetype": "text/x-python",
   "name": "python",
   "nbconvert_exporter": "python",
   "pygments_lexer": "ipython3",
   "version": "3.11.7"
  }
 },
 "nbformat": 4,
 "nbformat_minor": 2
}
