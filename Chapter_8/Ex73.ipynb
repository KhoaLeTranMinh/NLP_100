{
 "cells": [
  {
   "cell_type": "code",
   "execution_count": 4,
   "metadata": {},
   "outputs": [
    {
     "name": "stdout",
     "output_type": "stream",
     "text": [
      "epoch: 1, loss: 0.5623\n",
      "epoch: 11, loss: 0.5619\n",
      "epoch: 21, loss: 0.5609\n",
      "epoch: 31, loss: 0.5599\n",
      "epoch: 41, loss: 0.5588\n",
      "epoch: 51, loss: 0.5577\n",
      "epoch: 61, loss: 0.5566\n",
      "epoch: 71, loss: 0.5555\n",
      "epoch: 81, loss: 0.5545\n",
      "epoch: 91, loss: 0.5535\n"
     ]
    }
   ],
   "source": [
    "import torch\n",
    "import os\n",
    "import random\n",
    "import numpy as np\n",
    "from torch import nn\n",
    "import torch.optim as optim\n",
    "\n",
    "\n",
    "\n",
    "def seed_everything(seed=42):\n",
    "    random.seed(seed)\n",
    "    os.environ['PYTHONHASHSEED'] = str(seed)\n",
    "    np.random.seed(seed)\n",
    "    torch.manual_seed(seed)\n",
    "    torch.cuda.manual_seed(seed)\n",
    "    torch.backends.cudnn.deterministic = True\n",
    "#randomize some params in for different functions\n",
    "\n",
    "class Net(nn.Module):  # inheritance in python\n",
    "    def __init__(self, in_shape: int, out_shape: int):\n",
    "        super().__init__()\n",
    "        # in_shape = 300 , ##out_shape = 4 which are numbers of categories. This basically creates a \"weight matrix of in_shape x out_shape\"\n",
    "        self.linearTrans = nn.Linear(in_shape, out_shape, bias=True)\n",
    "\n",
    "        nn.init.constant_(self.linearTrans.bias.data, 0)\n",
    "        # for now we make all bias values to 0\n",
    "        self.softmax = nn.Softmax(dim=1)\n",
    "\n",
    "    def forward(self, x):\n",
    "        x = self.linearTrans(x)\n",
    "        x = self.softmax(x)\n",
    "        return x\n",
    "\n",
    "\n",
    "seed_everything()\n",
    "filedir_in = '../Data/Output/Chapter8'\n",
    "modelpath = '../Data/Output/Chapter8/torch_single_layer.pth'\n",
    "\n",
    "train_path = os.path.join(filedir_in, 'train.pt')\n",
    "x_train = torch.load(train_path)\n",
    "\n",
    "net = Net(in_shape=x_train.shape[1], out_shape=4) #in shape is just 300\n",
    "\n",
    "train_label_path = os.path.join(filedir_in, 'train_label.pt')\n",
    "y_label = torch.load(train_label_path)\n",
    "y_label = torch.nn.functional.one_hot(y_label.long()).to(torch.float)\n",
    "##this is just basically creating a bunch of vectors of the form [0,1,0,0] or [1,0,0,0]. Basically, only one \"1\" in the four element vector to indicate category\n",
    "\n",
    "criterion = nn.BCELoss()\n",
    "# The loss function\n",
    "optimizer = optim.SGD(net.parameters(),\n",
    "                        lr=0.001,\n",
    "                        momentum=0.9)\n",
    "#Applying stochastic gradient descent; lr stands for learning rate\n",
    "for epoch in range(100):\n",
    "    optimizer.zero_grad()\n",
    "        #reset the gradient of the parameters for accumulated training datas in current epoch\n",
    "    y_pred = net(x_train)\n",
    "    #calling the forward function\n",
    "    loss = criterion(y_pred, y_label)\n",
    "    loss.backward()\n",
    "    #calculate the gradient, backpropagation; calculate the derivative of loss function with respect to the paramenters to be optimized\n",
    "    optimizer.step()\n",
    "\n",
    "    if epoch % 10 == 0:\n",
    "        print('epoch: {}, loss: {:.4f}'.format(epoch+1, loss))\n",
    "torch.save(net.state_dict(), modelpath)"
   ]
  }
 ],
 "metadata": {
  "kernelspec": {
   "display_name": "Python 3",
   "language": "python",
   "name": "python3"
  },
  "language_info": {
   "codemirror_mode": {
    "name": "ipython",
    "version": 3
   },
   "file_extension": ".py",
   "mimetype": "text/x-python",
   "name": "python",
   "nbconvert_exporter": "python",
   "pygments_lexer": "ipython3",
   "version": "3.11.7"
  }
 },
 "nbformat": 4,
 "nbformat_minor": 2
}
